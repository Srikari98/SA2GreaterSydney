{
 "cells": [
  {
   "cell_type": "code",
   "execution_count": null,
   "id": "0463e115-7cf8-4d1a-a2e6-ad2ea3b24dc7",
   "metadata": {},
   "outputs": [],
   "source": []
  }
 ],
 "metadata": {
  "kernelspec": {
   "display_name": "",
   "name": ""
  },
  "language_info": {
   "name": ""
  }
 },
 "nbformat": 4,
 "nbformat_minor": 5
}
